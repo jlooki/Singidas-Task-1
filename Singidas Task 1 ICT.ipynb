{
 "cells": [
  {
   "cell_type": "code",
   "execution_count": 1,
   "id": "2623c111-5dbf-45cb-85ee-65b128a320d0",
   "metadata": {},
   "outputs": [
    {
     "name": "stdout",
     "output_type": "stream",
     "text": [
      "List of Rocks/Minerals based on your name:\n",
      "Chrysoprase\n",
      "Halite\n",
      "Ruby\n",
      "Ilmenite\n",
      "Sphalerite\n",
      "Diamond\n",
      "Emerald\n",
      "Opal\n",
      "Malachite\n",
      "Amethyst\n",
      "Labradorite\n",
      "Iolite\n",
      "Galena\n",
      "Amazonite\n",
      "Yttrotantalite\n",
      "Andalusite\n",
      "Selenite\n",
      "Ilvaite\n",
      "Nephrite\n",
      "Garnet\n",
      "Idocrase\n",
      "Dolomite\n",
      "Alexandrite\n",
      "Siderite\n"
     ]
    }
   ],
   "source": [
    "rocks_minerals = [\n",
    "    \"Chrysoprase\",  # C\n",
    "    \"Halite\",       # H\n",
    "    \"Ruby\",         # R\n",
    "    \"Ilmenite\",     # I\n",
    "    \"Sphalerite\",   # S\n",
    "    \"Diamond\",      # D\n",
    "    \"Emerald\",      # E\n",
    "    \"Opal\",         # O\n",
    "    \"Malachite\",    # M\n",
    "    \"Amethyst\",     # A\n",
    "    \"Labradorite\",  # L\n",
    "    \"Iolite\",       # I\n",
    "    \"Galena\",       # G\n",
    "    \"Amazonite\",    # A\n",
    "    \"Yttrotantalite\",# Y\n",
    "    \"Andalusite\",   # A\n",
    "    \"Selenite\",     # S\n",
    "    \"Ilvaite\",      # I\n",
    "    \"Nephrite\",     # N\n",
    "    \"Garnet\",       # G\n",
    "    \"Idocrase\",     # I\n",
    "    \"Dolomite\",     # D\n",
    "    \"Alexandrite\",  # A\n",
    "    \"Siderite\"      # S\n",
    "]\n",
    "\n",
    "print(\"List of Rocks/Minerals based on your name:\")\n",
    "for rock in rocks_minerals:\n",
    "    print(rock)\n"
   ]
  },
  {
   "cell_type": "code",
   "execution_count": null,
   "id": "1ce26dcc-6cd5-41c9-a2ca-a025e7fe8fb9",
   "metadata": {},
   "outputs": [],
   "source": []
  }
 ],
 "metadata": {
  "kernelspec": {
   "display_name": "Python 3 (ipykernel)",
   "language": "python",
   "name": "python3"
  },
  "language_info": {
   "codemirror_mode": {
    "name": "ipython",
    "version": 3
   },
   "file_extension": ".py",
   "mimetype": "text/x-python",
   "name": "python",
   "nbconvert_exporter": "python",
   "pygments_lexer": "ipython3",
   "version": "3.13.0"
  }
 },
 "nbformat": 4,
 "nbformat_minor": 5
}
